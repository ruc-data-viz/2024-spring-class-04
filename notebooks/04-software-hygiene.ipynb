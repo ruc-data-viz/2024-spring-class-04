{
 "cells": [
  {
   "cell_type": "markdown",
   "metadata": {},
   "source": [
    "# Software Hygiene\n",
    "\n",
    "At this point in the course we are writing a lot of code. Here we review some tips for keeping our code clean and easy to maintain!\n",
    "\n",
    "Remember that code is read more than it is written. It is important to be sympathetic to the next person who has to read and understand your code, even if that will be future you!\n",
    "\n",
    "Your goal is always to write code that can be read and understood as easily as possible by another person on your team, or your future self when coming back to a project. This will reduce the amount of time you spend working on code and in turn reduce the cost of projects, with compounding returns for complex projects. The more complex the project, the more important software hygiene is.\n",
    "\n",
    "## Acknowledgements\n",
    "\n",
    "Special thanks to my colleague, Rob Shemeley, for providing these tips!\n"
   ]
  },
  {
   "cell_type": "markdown",
   "metadata": {},
   "source": [
    "## Use a Style Guide\n",
    "\n",
    "Formatting code manually wastes valuable time that would be better spent writing code. Further, everyone on a team will have different opinions about how code should be formatted. This leads to differing formats on projects worked on by multiple people and time lost to debates about formatting. Avoid this and get back time writing the core code and functionality of your project by running autoformatters. You can configure your IDE to do this automatically. If I see your code is autoformatted, you will get extra credit on assignments!\n",
    "\n",
    "Two great autoformatter tools are `black` and `isort`. You can install them with pip.\n",
    "\n",
    "```bash\n",
    "pip install black\n",
    "pip install isort\n",
    "```\n",
    "\n",
    "Google these tools to learn about them and search for packages to use them in your IDE!\n"
   ]
  },
  {
   "cell_type": "markdown",
   "metadata": {},
   "source": [
    "## Write High Quality Commit Messages\n",
    "\n",
    "Remember that commit messages are a log of the work you did on a project."
   ]
  }
 ],
 "metadata": {
  "language_info": {
   "name": "python"
  }
 },
 "nbformat": 4,
 "nbformat_minor": 2
}
