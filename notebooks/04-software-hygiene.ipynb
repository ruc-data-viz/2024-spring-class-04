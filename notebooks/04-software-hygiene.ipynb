{
 "cells": [
  {
   "cell_type": "markdown",
   "metadata": {},
   "source": [
    "# Software Hygiene\n",
    "\n",
    "At this point in the course we are writing a lot of code. Here we review some tips for keeping our code clean and easy to maintain!\n",
    "\n",
    "Remember that code is read more than it is written. It is important to be sympathetic to the next person who has to read and understand your code, even if that will be future you!\n",
    "\n",
    "Your goal is always to write code that can be read and understood as easily as possible by another person on your team, or your future self when coming back to a project. This will reduce the amount of time you spend working on code and in turn reduce the cost of projects, with compounding returns for complex projects. The more complex the project, the more important software hygiene is.\n",
    "\n",
    "## Acknowledgements\n",
    "\n",
    "Special thanks to my colleague, Rob Shemeley, for providing these tips which encapsulate decades of software engineering wisdom and leadership into a helpful set of tips for beginners!\n"
   ]
  },
  {
   "cell_type": "markdown",
   "metadata": {},
   "source": [
    "## Use a Style Guide\n",
    "\n",
    "Formatting code manually wastes valuable time that would be better spent writing code. Further, everyone on a team will have different opinions about how code should be formatted. This leads to differing formats on projects worked on by multiple people and time lost to debates about formatting. Avoid this and get back time writing the core code and functionality of your project by running autoformatters. You can configure your IDE to do this automatically. If I see your code is autoformatted, you will get extra credit on assignments!\n",
    "\n",
    "Two great autoformatter tools are `black` and `isort`. You can install them with pip.\n",
    "\n",
    "```bash\n",
    "pip install black\n",
    "pip install isort\n",
    "```\n",
    "\n",
    "Google these tools to learn about them and search for packages to use them in your IDE!\n"
   ]
  },
  {
   "cell_type": "markdown",
   "metadata": {},
   "source": [
    "## Write High Quality Commit Messages\n",
    "\n",
    "Remember that commit messages are a log of the work you did on a project. The commit messages are a log of work done and should be descriptive so you can return to a previous version and know which version you are returning to.\n",
    "\n",
    "Avoid non-descriptive commit messages like \"stuff\" or \"wip\". This is unprofessional and makes your teammates do extra work to figure out what you meant by these non-descriptive messages.\n",
    "\n",
    "Bad:\n",
    "\n",
    "```bash\n",
    "git commit -m \"stuff\"\n",
    "```\n",
    "\n",
    "Good:\n",
    "```bash\n",
    "git commit -m \"Add the unit conversion module\"\n",
    "```\n",
    "\n",
    "A good commit message is grammatically correct and should read as \"When applied, this commit will...\".\n",
    "\n",
    "So the good commit message above would read as \"When applied, this commit will add the unit conversion module\".\n"
   ]
  },
  {
   "cell_type": "markdown",
   "metadata": {},
   "source": [
    "## Use Well Thought-out Descriptive Variable and Function Names\n",
    "\n",
    "Variable and function names should be well thought-out and should ideally make your code read almost like english. A good rule is to make function names verbs (since the functions execute an action) and make variables names nouns since they define data. It also helps to add units to variable names so you can keep track of them (if not using another solution to keep track of units).\n",
    "\n",
    "### Variable Name Examples\n",
    "\n",
    "Bad:\n",
    "```python\n",
    "zz = 2\n",
    "counter = 0\n",
    "eval_flag = True\n",
    "```\n",
    "\n",
    "Good:\n",
    "```python\n",
    "z_measured_altitude_meters = 2\n",
    "page_visits_counter = 0\n",
    "# Avoid using flags if you can, they are difficult to test!\n",
    "```\n"
   ]
  },
  {
   "cell_type": "markdown",
   "metadata": {},
   "source": [
    "## Don't Commit Dead Code\n",
    "\n",
    "A common anti-pattern is to have dead code in a system."
   ]
  },
  {
   "cell_type": "markdown",
   "metadata": {},
   "source": [
    "## Write High Quality Code in Python and Call from Notebooks (Rather Than Developing Inside Notebooks)"
   ]
  },
  {
   "cell_type": "markdown",
   "metadata": {},
   "source": [
    "## Write High Quality Documentation in Comments or Notebooks"
   ]
  },
  {
   "cell_type": "markdown",
   "metadata": {},
   "source": [
    "## Write Unit Tests!"
   ]
  },
  {
   "cell_type": "markdown",
   "metadata": {},
   "source": []
  }
 ],
 "metadata": {
  "language_info": {
   "name": "python"
  }
 },
 "nbformat": 4,
 "nbformat_minor": 2
}
