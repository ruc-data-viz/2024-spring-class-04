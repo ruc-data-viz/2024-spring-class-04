{
 "cells": [
  {
   "cell_type": "markdown",
   "metadata": {},
   "source": [
    "# pandas\n",
    "\n",
    "> `pandas` is a fast, powerful, flexible and easy to use open source data analysis and manipulation tool,\n",
    "built on top of the Python programming language.\n",
    "\n",
    "`pandas` is one of the most powerful tools in the entire data science ecosystem. It allows us to work with tabular and multidimensional data with extreme ease and flexibility, and is incredibly easy to jump into. \n"
   ]
  },
  {
   "cell_type": "markdown",
   "metadata": {},
   "source": [
    "## Series & DataFrames\n",
    "\n",
    "To start we will learn about the two primary data structures that `pandas` defines: series and DataFrames.\n",
    "\n",
    "### Series\n",
    "\n",
    "`pandas` series (in code `pd.Series`) are arrays of data (much like a NumPy array). They usually contain elements that are of the same type, but this is not a requirement. We can generally think of a series as a column of data, where we can label rows. Let's make a simple series from random NumPy data by simply passing a NumPy array into the constructor:"
   ]
  },
  {
   "cell_type": "code",
   "execution_count": 1,
   "metadata": {},
   "outputs": [
    {
     "data": {
      "text/plain": [
       "0    5\n",
       "1    8\n",
       "2    9\n",
       "3    5\n",
       "4    0\n",
       "5    0\n",
       "6    1\n",
       "7    7\n",
       "8    6\n",
       "9    9\n",
       "dtype: int32"
      ]
     },
     "execution_count": 1,
     "metadata": {},
     "output_type": "execute_result"
    }
   ],
   "source": [
    "import numpy as np\n",
    "import pandas as pd  # it is standard to import pandas with the alias pd\n",
    "\n",
    "\n",
    "np.random.seed(1)\n",
    "random_data = np.random.randint(0,10,10)\n",
    "random_series = pd.Series(random_data)  # create a series containing 10 random integers in the half-open set [0,10)\n",
    "random_series"
   ]
  },
  {
   "cell_type": "markdown",
   "metadata": {},
   "source": [
    "Displaying a series will show both the row-numbers (also called the index) on the left, with the data to the right. As expected the row numbers range from 0 to 9, and the numbers in our column seem sufficiently random. `pandas` also determined that the `dtype` for the series should be 64-bit integer (since that was the type that NumPy generated using `randint`).\n",
    "\n",
    "We can access the elements of our series in the same familiar ways as before, but there are also some new ways we need to understand."
   ]
  },
  {
   "cell_type": "code",
   "execution_count": 2,
   "metadata": {},
   "outputs": [
    {
     "data": {
      "text/plain": [
       "(8, 8, 8)"
      ]
     },
     "execution_count": 2,
     "metadata": {},
     "output_type": "execute_result"
    }
   ],
   "source": [
    "(\n",
    "    random_series[1],      # standard access, but deprecated! don't access a series like this!\n",
    "    random_series.loc[1],  # access the row with index **label** 1 (i.e., the row with index equal to one)\n",
    "    random_series.iloc[1]  # access the row with index **position** 1 (i.e., the 2nd row)\n",
    ")"
   ]
  },
  {
   "cell_type": "markdown",
   "metadata": {},
   "source": [
    "Why would we need these new methods for accessing data from a series? The difference between these access methods will make more sense if we add different *labels* to our index. We can access the index of a series easily:"
   ]
  },
  {
   "cell_type": "code",
   "execution_count": 3,
   "metadata": {},
   "outputs": [
    {
     "data": {
      "text/plain": [
       "RangeIndex(start=0, stop=10, step=1)"
      ]
     },
     "execution_count": 3,
     "metadata": {},
     "output_type": "execute_result"
    }
   ],
   "source": [
    "random_series.index"
   ]
  },
  {
   "cell_type": "markdown",
   "metadata": {},
   "source": [
    "Because we initialized the series with a list, `pandas` efficiently just represents the index using an integer range to represent row numbers. Numerical labeling is the default behavior for `pandas`. We can manually override this index with a new one of the same size. Here we are going to manually replace the existing index with a new one from a list of labels."
   ]
  },
  {
   "cell_type": "code",
   "execution_count": 4,
   "metadata": {},
   "outputs": [
    {
     "data": {
      "text/plain": [
       "a    5\n",
       "b    8\n",
       "c    9\n",
       "d    5\n",
       "e    0\n",
       "f    0\n",
       "g    1\n",
       "h    7\n",
       "i    6\n",
       "j    9\n",
       "dtype: int32"
      ]
     },
     "execution_count": 4,
     "metadata": {},
     "output_type": "execute_result"
    }
   ],
   "source": [
    "random_series.index = ['a','b','c','d','e','f','g','h','i','j']  # this must have the same length as the previous index!\n",
    "random_series"
   ]
  },
  {
   "cell_type": "markdown",
   "metadata": {},
   "source": [
    "Now we can access the series' elements by their index labels:"
   ]
  },
  {
   "cell_type": "code",
   "execution_count": 5,
   "metadata": {},
   "outputs": [
    {
     "name": "stdout",
     "output_type": "stream",
     "text": [
      "8\n",
      "8\n",
      "9\n"
     ]
    }
   ],
   "source": [
    "print(random_series.loc['b']) # access and print the row with index label 'b'\n",
    "print(random_series.iloc[1]) # access and print the second row (same as the row with index label 'b')\n",
    "print(random_series.iloc[2]) # access and print the third row"
   ]
  },
  {
   "cell_type": "markdown",
   "metadata": {},
   "source": [
    "We can also access an element directly by the index label *if and only if the label is a string!*"
   ]
  },
  {
   "cell_type": "code",
   "execution_count": 6,
   "metadata": {},
   "outputs": [
    {
     "data": {
      "text/plain": [
       "8"
      ]
     },
     "execution_count": 6,
     "metadata": {},
     "output_type": "execute_result"
    }
   ],
   "source": [
    "random_series.b # equivalent to random_series.loc['b']"
   ]
  },
  {
   "cell_type": "markdown",
   "metadata": {},
   "source": [
    "We can also slice series just like lists:"
   ]
  },
  {
   "cell_type": "code",
   "execution_count": 7,
   "metadata": {},
   "outputs": [
    {
     "data": {
      "text/plain": [
       "d    5\n",
       "e    0\n",
       "f    0\n",
       "g    1\n",
       "dtype: int32"
      ]
     },
     "execution_count": 7,
     "metadata": {},
     "output_type": "execute_result"
    }
   ],
   "source": [
    "random_series.iloc[3:7]"
   ]
  },
  {
   "cell_type": "markdown",
   "metadata": {},
   "source": [
    "But note that because our index is no longer a range, we cannot slice `loc` using integers. Instead, we can slice `loc` using the labels!"
   ]
  },
  {
   "cell_type": "code",
   "execution_count": 9,
   "metadata": {},
   "outputs": [
    {
     "name": "stdout",
     "output_type": "stream",
     "text": [
      "d    5\n",
      "e    0\n",
      "f    0\n",
      "g    1\n",
      "dtype: int32\n"
     ]
    }
   ],
   "source": [
    "# This would return an error; we need to slide loc by the actual labels (in this case, strings)\n",
    "# print(random_series.loc[3:7])\n",
    "print(random_series.loc['d':'g'])"
   ]
  },
  {
   "cell_type": "markdown",
   "metadata": {},
   "source": [
    "We can perform operations on series like we can with arrays and lists, but we should take care to *never write an explicit loop*. Instead we should use the `apply` method to apply functions to a series. This is more pythonic and in some cases faster."
   ]
  },
  {
   "cell_type": "code",
   "execution_count": 10,
   "metadata": {},
   "outputs": [
    {
     "data": {
      "text/plain": [
       "a    25\n",
       "b    64\n",
       "c    81\n",
       "d    25\n",
       "e     0\n",
       "f     0\n",
       "g     1\n",
       "h    49\n",
       "i    36\n",
       "j    81\n",
       "dtype: int64"
      ]
     },
     "execution_count": 10,
     "metadata": {},
     "output_type": "execute_result"
    }
   ],
   "source": [
    "random_series.apply(lambda x: x * x)  # returns a new series with each row squared"
   ]
  },
  {
   "cell_type": "markdown",
   "metadata": {},
   "source": [
    "Assuming that two series share the same index, we can perform mathematical operations like addition using two series. "
   ]
  },
  {
   "cell_type": "code",
   "execution_count": 11,
   "metadata": {},
   "outputs": [
    {
     "data": {
      "text/plain": [
       "a     7\n",
       "b    12\n",
       "c    14\n",
       "d     7\n",
       "e     4\n",
       "f     2\n",
       "g     5\n",
       "h    14\n",
       "i    13\n",
       "j    18\n",
       "dtype: int32"
      ]
     },
     "execution_count": 11,
     "metadata": {},
     "output_type": "execute_result"
    }
   ],
   "source": [
    "other_random_series = pd.Series(np.random.randint(0,10,10), index=['a','b','c','d','e','f','g','h','i','j'])\n",
    "random_series + other_random_series"
   ]
  },
  {
   "cell_type": "markdown",
   "metadata": {},
   "source": [
    "What happens when our indices do not match?"
   ]
  },
  {
   "cell_type": "code",
   "execution_count": 12,
   "metadata": {},
   "outputs": [
    {
     "data": {
      "text/plain": [
       "a   NaN\n",
       "b   NaN\n",
       "c   NaN\n",
       "d   NaN\n",
       "e   NaN\n",
       "f   NaN\n",
       "g   NaN\n",
       "h   NaN\n",
       "i   NaN\n",
       "j   NaN\n",
       "0   NaN\n",
       "1   NaN\n",
       "2   NaN\n",
       "3   NaN\n",
       "4   NaN\n",
       "5   NaN\n",
       "6   NaN\n",
       "7   NaN\n",
       "8   NaN\n",
       "9   NaN\n",
       "dtype: float64"
      ]
     },
     "execution_count": 12,
     "metadata": {},
     "output_type": "execute_result"
    }
   ],
   "source": [
    "other_random_series = pd.Series(np.random.randint(0,10,10))\n",
    "random_series + other_random_series"
   ]
  },
  {
   "cell_type": "markdown",
   "metadata": {},
   "source": [
    "When performing an operation like addition with two series, `pandas` will attempt to add elements that have common labels. Any labels that don't have a pair are effectively converted to `NaN`, or a value indicating \"not a number\".\n",
    "\n",
    "If we ever need to change our series into a list or NumPy array, we can use the methods `to_list` and `to_numpy`:"
   ]
  },
  {
   "cell_type": "code",
   "execution_count": 13,
   "metadata": {},
   "outputs": [
    {
     "data": {
      "text/plain": [
       "([5, 8, 9, 5, 0, 0, 1, 7, 6, 9], array([5, 8, 9, 5, 0, 0, 1, 7, 6, 9]))"
      ]
     },
     "execution_count": 13,
     "metadata": {},
     "output_type": "execute_result"
    }
   ],
   "source": [
    "random_series.to_list(), random_series.to_numpy()"
   ]
  },
  {
   "cell_type": "markdown",
   "metadata": {},
   "source": [
    "## DataFrames\n",
    "\n",
    "\n"
   ]
  },
  {
   "cell_type": "markdown",
   "metadata": {},
   "source": [
    "Having individual columns of data is much less useful than actually having a table of data, especially if all of the series are aligned on their index! A dataframe is a tabular piece of data with a row index just like series, but also contains a column index. A common way of creating DataFrames is from dictionaries, mapping column names to lists/arrays/series of data."
   ]
  },
  {
   "cell_type": "code",
   "execution_count": 14,
   "metadata": {},
   "outputs": [
    {
     "data": {
      "text/html": [
       "<div>\n",
       "<style scoped>\n",
       "    .dataframe tbody tr th:only-of-type {\n",
       "        vertical-align: middle;\n",
       "    }\n",
       "\n",
       "    .dataframe tbody tr th {\n",
       "        vertical-align: top;\n",
       "    }\n",
       "\n",
       "    .dataframe thead th {\n",
       "        text-align: right;\n",
       "    }\n",
       "</style>\n",
       "<table border=\"1\" class=\"dataframe\">\n",
       "  <thead>\n",
       "    <tr style=\"text-align: right;\">\n",
       "      <th></th>\n",
       "      <th>vertices</th>\n",
       "      <th>edges</th>\n",
       "      <th>faces</th>\n",
       "    </tr>\n",
       "  </thead>\n",
       "  <tbody>\n",
       "    <tr>\n",
       "      <th>tetrahedron</th>\n",
       "      <td>4</td>\n",
       "      <td>6</td>\n",
       "      <td>4</td>\n",
       "    </tr>\n",
       "    <tr>\n",
       "      <th>cube</th>\n",
       "      <td>8</td>\n",
       "      <td>12</td>\n",
       "      <td>6</td>\n",
       "    </tr>\n",
       "    <tr>\n",
       "      <th>octahedron</th>\n",
       "      <td>6</td>\n",
       "      <td>12</td>\n",
       "      <td>8</td>\n",
       "    </tr>\n",
       "    <tr>\n",
       "      <th>dodecahedron</th>\n",
       "      <td>20</td>\n",
       "      <td>30</td>\n",
       "      <td>12</td>\n",
       "    </tr>\n",
       "    <tr>\n",
       "      <th>icosahedron</th>\n",
       "      <td>12</td>\n",
       "      <td>30</td>\n",
       "      <td>20</td>\n",
       "    </tr>\n",
       "  </tbody>\n",
       "</table>\n",
       "</div>"
      ],
      "text/plain": [
       "              vertices  edges  faces\n",
       "tetrahedron          4      6      4\n",
       "cube                 8     12      6\n",
       "octahedron           6     12      8\n",
       "dodecahedron        20     30     12\n",
       "icosahedron         12     30     20"
      ]
     },
     "execution_count": 14,
     "metadata": {},
     "output_type": "execute_result"
    }
   ],
   "source": [
    "platonic_properties = {\n",
    "    'vertices': [4, 8, 6, 20, 12],\n",
    "    'edges': [6, 12, 12, 30, 30],\n",
    "    'faces': [4, 6, 8, 12, 20],\n",
    "}\n",
    "names = ['tetrahedron', 'cube', 'octahedron', 'dodecahedron', 'icosahedron']\n",
    "\n",
    "platonic_solids = pd.DataFrame(platonic_properties, index=names)\n",
    "platonic_solids"
   ]
  },
  {
   "cell_type": "markdown",
   "metadata": {},
   "source": [
    "This dataframe contains properties of platonic solids. It has an index (again, these are the row labels) which we set to the names of the platonic solid. The dataframe also has 3 columns: vertices, edges, and faces.\n",
    "\n",
    "We can call the `info` function of the dataframe to observe some of its properties:"
   ]
  },
  {
   "cell_type": "code",
   "execution_count": 15,
   "metadata": {},
   "outputs": [
    {
     "name": "stdout",
     "output_type": "stream",
     "text": [
      "<class 'pandas.core.frame.DataFrame'>\n",
      "Index: 5 entries, tetrahedron to icosahedron\n",
      "Data columns (total 3 columns):\n",
      " #   Column    Non-Null Count  Dtype\n",
      "---  ------    --------------  -----\n",
      " 0   vertices  5 non-null      int64\n",
      " 1   edges     5 non-null      int64\n",
      " 2   faces     5 non-null      int64\n",
      "dtypes: int64(3)\n",
      "memory usage: 160.0+ bytes\n"
     ]
    }
   ],
   "source": [
    "platonic_solids.info()"
   ]
  },
  {
   "cell_type": "markdown",
   "metadata": {},
   "source": [
    "We can also use the `describe` method to numerically summarize the table, or the `memory_usage` method to look at the specific memory usage per column.\n",
    "\n",
    "We can access data by row, by column, or by individual elements directly. We can access all of these pieces of data in multiple ways. Generally, when accessing *rows* of data, we will use the `loc` or `iloc` attributes. When accessing columns of data we will use the column name directly."
   ]
  },
  {
   "cell_type": "code",
   "execution_count": 16,
   "metadata": {},
   "outputs": [
    {
     "data": {
      "text/plain": [
       "vertices    20\n",
       "edges       30\n",
       "faces       12\n",
       "Name: dodecahedron, dtype: int64"
      ]
     },
     "execution_count": 16,
     "metadata": {},
     "output_type": "execute_result"
    }
   ],
   "source": [
    "# access the data for a dodecahedron\n",
    "platonic_solids.loc['dodecahedron']"
   ]
  },
  {
   "cell_type": "code",
   "execution_count": 17,
   "metadata": {},
   "outputs": [
    {
     "data": {
      "text/plain": [
       "tetrahedron      6\n",
       "cube            12\n",
       "octahedron      12\n",
       "dodecahedron    30\n",
       "icosahedron     30\n",
       "Name: edges, dtype: int64"
      ]
     },
     "execution_count": 17,
     "metadata": {},
     "output_type": "execute_result"
    }
   ],
   "source": [
    "# access the number of edges for each solid\n",
    "platonic_solids.loc[:, 'edges']"
   ]
  },
  {
   "cell_type": "code",
   "execution_count": 18,
   "metadata": {},
   "outputs": [
    {
     "data": {
      "text/plain": [
       "tetrahedron      6\n",
       "cube            12\n",
       "octahedron      12\n",
       "dodecahedron    30\n",
       "icosahedron     30\n",
       "Name: edges, dtype: int64"
      ]
     },
     "execution_count": 18,
     "metadata": {},
     "output_type": "execute_result"
    }
   ],
   "source": [
    "# we can abbreviate selecting an entire column\n",
    "platonic_solids['edges']  # or even platonic_solids.edges"
   ]
  },
  {
   "cell_type": "code",
   "execution_count": 19,
   "metadata": {},
   "outputs": [
    {
     "data": {
      "text/plain": [
       "20"
      ]
     },
     "execution_count": 19,
     "metadata": {},
     "output_type": "execute_result"
    }
   ],
   "source": [
    "# access the number of vertices that a dodecahedron has\n",
    "platonic_solids.loc['dodecahedron', 'vertices']"
   ]
  },
  {
   "cell_type": "markdown",
   "metadata": {},
   "source": [
    "The true power of `pandas` comes with selecting data. Selecting slices and individual elements are fine, but we usually need more than that. Let's say we want to select all platonic solids with 12 edges. To do so we need to *create a mask*. A mask is list/array/series of booleans that indicates whether or not to select the value at its associated position. Creating a mask is as simple as just applying some comparison directly to a series/column:"
   ]
  },
  {
   "cell_type": "code",
   "execution_count": 20,
   "metadata": {},
   "outputs": [
    {
     "data": {
      "text/plain": [
       "tetrahedron     False\n",
       "cube             True\n",
       "octahedron       True\n",
       "dodecahedron    False\n",
       "icosahedron     False\n",
       "Name: edges, dtype: bool"
      ]
     },
     "execution_count": 20,
     "metadata": {},
     "output_type": "execute_result"
    }
   ],
   "source": [
    "edge_mask = platonic_solids.edges == 12\n",
    "edge_mask"
   ]
  },
  {
   "cell_type": "markdown",
   "metadata": {},
   "source": [
    "We can use this mask to then access the rows that satisfy the comparison above"
   ]
  },
  {
   "cell_type": "code",
   "execution_count": 21,
   "metadata": {},
   "outputs": [
    {
     "data": {
      "text/html": [
       "<div>\n",
       "<style scoped>\n",
       "    .dataframe tbody tr th:only-of-type {\n",
       "        vertical-align: middle;\n",
       "    }\n",
       "\n",
       "    .dataframe tbody tr th {\n",
       "        vertical-align: top;\n",
       "    }\n",
       "\n",
       "    .dataframe thead th {\n",
       "        text-align: right;\n",
       "    }\n",
       "</style>\n",
       "<table border=\"1\" class=\"dataframe\">\n",
       "  <thead>\n",
       "    <tr style=\"text-align: right;\">\n",
       "      <th></th>\n",
       "      <th>vertices</th>\n",
       "      <th>edges</th>\n",
       "      <th>faces</th>\n",
       "    </tr>\n",
       "  </thead>\n",
       "  <tbody>\n",
       "    <tr>\n",
       "      <th>cube</th>\n",
       "      <td>8</td>\n",
       "      <td>12</td>\n",
       "      <td>6</td>\n",
       "    </tr>\n",
       "    <tr>\n",
       "      <th>octahedron</th>\n",
       "      <td>6</td>\n",
       "      <td>12</td>\n",
       "      <td>8</td>\n",
       "    </tr>\n",
       "  </tbody>\n",
       "</table>\n",
       "</div>"
      ],
      "text/plain": [
       "            vertices  edges  faces\n",
       "cube               8     12      6\n",
       "octahedron         6     12      8"
      ]
     },
     "execution_count": 21,
     "metadata": {},
     "output_type": "execute_result"
    }
   ],
   "source": [
    "platonic_solids.loc[edge_mask]"
   ]
  },
  {
   "cell_type": "markdown",
   "metadata": {},
   "source": [
    "## Exercise\n",
    "\n",
    "Create a mask to select rows where the number of vertices is greater than the number of faces."
   ]
  },
  {
   "cell_type": "code",
   "execution_count": 27,
   "metadata": {},
   "outputs": [
    {
     "data": {
      "text/plain": [
       "tetrahedron     False\n",
       "cube             True\n",
       "octahedron      False\n",
       "dodecahedron     True\n",
       "icosahedron     False\n",
       "dtype: bool"
      ]
     },
     "execution_count": 27,
     "metadata": {},
     "output_type": "execute_result"
    }
   ],
   "source": [
    "## Exercise\n",
    "\n",
    "vertices_mask = platonic_solids['vertices'] > platonic_solids['faces']\n",
    "vertices_mask"
   ]
  },
  {
   "cell_type": "markdown",
   "metadata": {},
   "source": [
    "`pandas` makes it super easy to load data from a file. We have a file in this repository called `nj_counties` that contains some census data detailing the population of each county of NJ for the year 2020, and estimates and projections for 2021 and 2022. We can tell `pandas` to automatically read a CSV into a dataframe using the `read_csv` method."
   ]
  },
  {
   "cell_type": "code",
   "execution_count": 28,
   "metadata": {},
   "outputs": [
    {
     "data": {
      "text/html": [
       "<div>\n",
       "<style scoped>\n",
       "    .dataframe tbody tr th:only-of-type {\n",
       "        vertical-align: middle;\n",
       "    }\n",
       "\n",
       "    .dataframe tbody tr th {\n",
       "        vertical-align: top;\n",
       "    }\n",
       "\n",
       "    .dataframe thead th {\n",
       "        text-align: right;\n",
       "    }\n",
       "</style>\n",
       "<table border=\"1\" class=\"dataframe\">\n",
       "  <thead>\n",
       "    <tr style=\"text-align: right;\">\n",
       "      <th></th>\n",
       "      <th>County</th>\n",
       "      <th>2020</th>\n",
       "      <th>2021</th>\n",
       "      <th>2022</th>\n",
       "    </tr>\n",
       "  </thead>\n",
       "  <tbody>\n",
       "    <tr>\n",
       "      <th>0</th>\n",
       "      <td>Atlantic County</td>\n",
       "      <td>274172</td>\n",
       "      <td>275130</td>\n",
       "      <td>275638</td>\n",
       "    </tr>\n",
       "    <tr>\n",
       "      <th>1</th>\n",
       "      <td>Bergen County</td>\n",
       "      <td>953617</td>\n",
       "      <td>954879</td>\n",
       "      <td>952997</td>\n",
       "    </tr>\n",
       "    <tr>\n",
       "      <th>2</th>\n",
       "      <td>Burlington County</td>\n",
       "      <td>461648</td>\n",
       "      <td>464411</td>\n",
       "      <td>466103</td>\n",
       "    </tr>\n",
       "    <tr>\n",
       "      <th>3</th>\n",
       "      <td>Camden County</td>\n",
       "      <td>523074</td>\n",
       "      <td>524124</td>\n",
       "      <td>524907</td>\n",
       "    </tr>\n",
       "    <tr>\n",
       "      <th>4</th>\n",
       "      <td>Cape May County</td>\n",
       "      <td>95040</td>\n",
       "      <td>95768</td>\n",
       "      <td>95634</td>\n",
       "    </tr>\n",
       "    <tr>\n",
       "      <th>5</th>\n",
       "      <td>Cumberland County</td>\n",
       "      <td>153692</td>\n",
       "      <td>152089</td>\n",
       "      <td>151356</td>\n",
       "    </tr>\n",
       "    <tr>\n",
       "      <th>6</th>\n",
       "      <td>Essex County</td>\n",
       "      <td>859924</td>\n",
       "      <td>854121</td>\n",
       "      <td>849477</td>\n",
       "    </tr>\n",
       "    <tr>\n",
       "      <th>7</th>\n",
       "      <td>Gloucester County</td>\n",
       "      <td>302554</td>\n",
       "      <td>304620</td>\n",
       "      <td>306601</td>\n",
       "    </tr>\n",
       "    <tr>\n",
       "      <th>8</th>\n",
       "      <td>Hudson County</td>\n",
       "      <td>721832</td>\n",
       "      <td>703447</td>\n",
       "      <td>703366</td>\n",
       "    </tr>\n",
       "    <tr>\n",
       "      <th>9</th>\n",
       "      <td>Hunterdon County</td>\n",
       "      <td>128786</td>\n",
       "      <td>129668</td>\n",
       "      <td>129777</td>\n",
       "    </tr>\n",
       "    <tr>\n",
       "      <th>10</th>\n",
       "      <td>Mercer County</td>\n",
       "      <td>386441</td>\n",
       "      <td>382116</td>\n",
       "      <td>380688</td>\n",
       "    </tr>\n",
       "    <tr>\n",
       "      <th>11</th>\n",
       "      <td>Middlesex County</td>\n",
       "      <td>861314</td>\n",
       "      <td>862328</td>\n",
       "      <td>861418</td>\n",
       "    </tr>\n",
       "    <tr>\n",
       "      <th>12</th>\n",
       "      <td>Monmouth County</td>\n",
       "      <td>642771</td>\n",
       "      <td>646392</td>\n",
       "      <td>644098</td>\n",
       "    </tr>\n",
       "    <tr>\n",
       "      <th>13</th>\n",
       "      <td>Morris County</td>\n",
       "      <td>508384</td>\n",
       "      <td>510444</td>\n",
       "      <td>511151</td>\n",
       "    </tr>\n",
       "    <tr>\n",
       "      <th>14</th>\n",
       "      <td>Ocean County</td>\n",
       "      <td>638422</td>\n",
       "      <td>649741</td>\n",
       "      <td>655735</td>\n",
       "    </tr>\n",
       "    <tr>\n",
       "      <th>15</th>\n",
       "      <td>Passaic County</td>\n",
       "      <td>523406</td>\n",
       "      <td>518345</td>\n",
       "      <td>513936</td>\n",
       "    </tr>\n",
       "    <tr>\n",
       "      <th>16</th>\n",
       "      <td>Salem County</td>\n",
       "      <td>64842</td>\n",
       "      <td>65058</td>\n",
       "      <td>65117</td>\n",
       "    </tr>\n",
       "    <tr>\n",
       "      <th>17</th>\n",
       "      <td>Somerset County</td>\n",
       "      <td>344725</td>\n",
       "      <td>346331</td>\n",
       "      <td>346875</td>\n",
       "    </tr>\n",
       "    <tr>\n",
       "      <th>18</th>\n",
       "      <td>Sussex County</td>\n",
       "      <td>143915</td>\n",
       "      <td>145645</td>\n",
       "      <td>146084</td>\n",
       "    </tr>\n",
       "    <tr>\n",
       "      <th>19</th>\n",
       "      <td>Union County</td>\n",
       "      <td>573617</td>\n",
       "      <td>572810</td>\n",
       "      <td>569815</td>\n",
       "    </tr>\n",
       "    <tr>\n",
       "      <th>20</th>\n",
       "      <td>Warren County</td>\n",
       "      <td>109513</td>\n",
       "      <td>110494</td>\n",
       "      <td>110926</td>\n",
       "    </tr>\n",
       "  </tbody>\n",
       "</table>\n",
       "</div>"
      ],
      "text/plain": [
       "               County    2020    2021    2022\n",
       "0     Atlantic County  274172  275130  275638\n",
       "1       Bergen County  953617  954879  952997\n",
       "2   Burlington County  461648  464411  466103\n",
       "3       Camden County  523074  524124  524907\n",
       "4     Cape May County   95040   95768   95634\n",
       "5   Cumberland County  153692  152089  151356\n",
       "6        Essex County  859924  854121  849477\n",
       "7   Gloucester County  302554  304620  306601\n",
       "8       Hudson County  721832  703447  703366\n",
       "9    Hunterdon County  128786  129668  129777\n",
       "10      Mercer County  386441  382116  380688\n",
       "11   Middlesex County  861314  862328  861418\n",
       "12    Monmouth County  642771  646392  644098\n",
       "13      Morris County  508384  510444  511151\n",
       "14       Ocean County  638422  649741  655735\n",
       "15     Passaic County  523406  518345  513936\n",
       "16       Salem County   64842   65058   65117\n",
       "17    Somerset County  344725  346331  346875\n",
       "18      Sussex County  143915  145645  146084\n",
       "19       Union County  573617  572810  569815\n",
       "20      Warren County  109513  110494  110926"
      ]
     },
     "execution_count": 28,
     "metadata": {},
     "output_type": "execute_result"
    }
   ],
   "source": [
    "nj_county_data = pd.read_csv('data/nj_counties.csv')\n",
    "nj_county_data"
   ]
  },
  {
   "cell_type": "markdown",
   "metadata": {},
   "source": [
    "Let's organize this dataframe a little, to make it a little easier to work with. We want to move the column \"County\" to be the index of the dataframe, and we want to make sure that the column names are actual integers. When we parse columns from a CSV, `pandas` will automatically make them strings. This is usually OK, but since we are working with years, which are conventionally integers, we want to make that conversion.\n",
    "\n",
    "For the index we can tell `pandas` to use a column as the index using the method `set_index`. To update the columns, we can tell `pandas` to reinterpret the labels as integers and overwrite them with the integer version."
   ]
  },
  {
   "cell_type": "code",
   "execution_count": 29,
   "metadata": {},
   "outputs": [
    {
     "data": {
      "text/html": [
       "<div>\n",
       "<style scoped>\n",
       "    .dataframe tbody tr th:only-of-type {\n",
       "        vertical-align: middle;\n",
       "    }\n",
       "\n",
       "    .dataframe tbody tr th {\n",
       "        vertical-align: top;\n",
       "    }\n",
       "\n",
       "    .dataframe thead th {\n",
       "        text-align: right;\n",
       "    }\n",
       "</style>\n",
       "<table border=\"1\" class=\"dataframe\">\n",
       "  <thead>\n",
       "    <tr style=\"text-align: right;\">\n",
       "      <th></th>\n",
       "      <th>2020</th>\n",
       "      <th>2021</th>\n",
       "      <th>2022</th>\n",
       "    </tr>\n",
       "    <tr>\n",
       "      <th>County</th>\n",
       "      <th></th>\n",
       "      <th></th>\n",
       "      <th></th>\n",
       "    </tr>\n",
       "  </thead>\n",
       "  <tbody>\n",
       "    <tr>\n",
       "      <th>Atlantic County</th>\n",
       "      <td>274172</td>\n",
       "      <td>275130</td>\n",
       "      <td>275638</td>\n",
       "    </tr>\n",
       "    <tr>\n",
       "      <th>Bergen County</th>\n",
       "      <td>953617</td>\n",
       "      <td>954879</td>\n",
       "      <td>952997</td>\n",
       "    </tr>\n",
       "    <tr>\n",
       "      <th>Burlington County</th>\n",
       "      <td>461648</td>\n",
       "      <td>464411</td>\n",
       "      <td>466103</td>\n",
       "    </tr>\n",
       "    <tr>\n",
       "      <th>Camden County</th>\n",
       "      <td>523074</td>\n",
       "      <td>524124</td>\n",
       "      <td>524907</td>\n",
       "    </tr>\n",
       "    <tr>\n",
       "      <th>Cape May County</th>\n",
       "      <td>95040</td>\n",
       "      <td>95768</td>\n",
       "      <td>95634</td>\n",
       "    </tr>\n",
       "    <tr>\n",
       "      <th>Cumberland County</th>\n",
       "      <td>153692</td>\n",
       "      <td>152089</td>\n",
       "      <td>151356</td>\n",
       "    </tr>\n",
       "    <tr>\n",
       "      <th>Essex County</th>\n",
       "      <td>859924</td>\n",
       "      <td>854121</td>\n",
       "      <td>849477</td>\n",
       "    </tr>\n",
       "    <tr>\n",
       "      <th>Gloucester County</th>\n",
       "      <td>302554</td>\n",
       "      <td>304620</td>\n",
       "      <td>306601</td>\n",
       "    </tr>\n",
       "    <tr>\n",
       "      <th>Hudson County</th>\n",
       "      <td>721832</td>\n",
       "      <td>703447</td>\n",
       "      <td>703366</td>\n",
       "    </tr>\n",
       "    <tr>\n",
       "      <th>Hunterdon County</th>\n",
       "      <td>128786</td>\n",
       "      <td>129668</td>\n",
       "      <td>129777</td>\n",
       "    </tr>\n",
       "    <tr>\n",
       "      <th>Mercer County</th>\n",
       "      <td>386441</td>\n",
       "      <td>382116</td>\n",
       "      <td>380688</td>\n",
       "    </tr>\n",
       "    <tr>\n",
       "      <th>Middlesex County</th>\n",
       "      <td>861314</td>\n",
       "      <td>862328</td>\n",
       "      <td>861418</td>\n",
       "    </tr>\n",
       "    <tr>\n",
       "      <th>Monmouth County</th>\n",
       "      <td>642771</td>\n",
       "      <td>646392</td>\n",
       "      <td>644098</td>\n",
       "    </tr>\n",
       "    <tr>\n",
       "      <th>Morris County</th>\n",
       "      <td>508384</td>\n",
       "      <td>510444</td>\n",
       "      <td>511151</td>\n",
       "    </tr>\n",
       "    <tr>\n",
       "      <th>Ocean County</th>\n",
       "      <td>638422</td>\n",
       "      <td>649741</td>\n",
       "      <td>655735</td>\n",
       "    </tr>\n",
       "    <tr>\n",
       "      <th>Passaic County</th>\n",
       "      <td>523406</td>\n",
       "      <td>518345</td>\n",
       "      <td>513936</td>\n",
       "    </tr>\n",
       "    <tr>\n",
       "      <th>Salem County</th>\n",
       "      <td>64842</td>\n",
       "      <td>65058</td>\n",
       "      <td>65117</td>\n",
       "    </tr>\n",
       "    <tr>\n",
       "      <th>Somerset County</th>\n",
       "      <td>344725</td>\n",
       "      <td>346331</td>\n",
       "      <td>346875</td>\n",
       "    </tr>\n",
       "    <tr>\n",
       "      <th>Sussex County</th>\n",
       "      <td>143915</td>\n",
       "      <td>145645</td>\n",
       "      <td>146084</td>\n",
       "    </tr>\n",
       "    <tr>\n",
       "      <th>Union County</th>\n",
       "      <td>573617</td>\n",
       "      <td>572810</td>\n",
       "      <td>569815</td>\n",
       "    </tr>\n",
       "    <tr>\n",
       "      <th>Warren County</th>\n",
       "      <td>109513</td>\n",
       "      <td>110494</td>\n",
       "      <td>110926</td>\n",
       "    </tr>\n",
       "  </tbody>\n",
       "</table>\n",
       "</div>"
      ],
      "text/plain": [
       "                     2020    2021    2022\n",
       "County                                   \n",
       "Atlantic County    274172  275130  275638\n",
       "Bergen County      953617  954879  952997\n",
       "Burlington County  461648  464411  466103\n",
       "Camden County      523074  524124  524907\n",
       "Cape May County     95040   95768   95634\n",
       "Cumberland County  153692  152089  151356\n",
       "Essex County       859924  854121  849477\n",
       "Gloucester County  302554  304620  306601\n",
       "Hudson County      721832  703447  703366\n",
       "Hunterdon County   128786  129668  129777\n",
       "Mercer County      386441  382116  380688\n",
       "Middlesex County   861314  862328  861418\n",
       "Monmouth County    642771  646392  644098\n",
       "Morris County      508384  510444  511151\n",
       "Ocean County       638422  649741  655735\n",
       "Passaic County     523406  518345  513936\n",
       "Salem County        64842   65058   65117\n",
       "Somerset County    344725  346331  346875\n",
       "Sussex County      143915  145645  146084\n",
       "Union County       573617  572810  569815\n",
       "Warren County      109513  110494  110926"
      ]
     },
     "execution_count": 29,
     "metadata": {},
     "output_type": "execute_result"
    }
   ],
   "source": [
    "nj_county_data.set_index('County', inplace=True)  # pandas operations by default returns copies, but many operations can be told to be inplace!\n",
    "nj_county_data.columns = nj_county_data.columns.astype(int)\n",
    "nj_county_data"
   ]
  },
  {
   "cell_type": "markdown",
   "metadata": {},
   "source": [
    "By setting the index to the county, we can now access rows by their county, and now we can access yearly data more intuitively:"
   ]
  },
  {
   "cell_type": "code",
   "execution_count": 30,
   "metadata": {},
   "outputs": [
    {
     "data": {
      "text/plain": [
       "524907"
      ]
     },
     "execution_count": 30,
     "metadata": {},
     "output_type": "execute_result"
    }
   ],
   "source": [
    "nj_county_data.loc['Camden County', 2022]"
   ]
  },
  {
   "cell_type": "markdown",
   "metadata": {},
   "source": [
    "Let's add two columns to our dataframe called \"Change\" and \"Percent Change\" (respectively the difference from 2020 to 2022, and that difference divided by the counts of 2020). Because columns are just series (that share the same index!) we can easily use mathematical operations to create new series! For example:"
   ]
  },
  {
   "cell_type": "code",
   "execution_count": 31,
   "metadata": {},
   "outputs": [
    {
     "data": {
      "text/plain": [
       "County\n",
       "Atlantic County       1466\n",
       "Bergen County         -620\n",
       "Burlington County     4455\n",
       "Camden County         1833\n",
       "Cape May County        594\n",
       "Cumberland County    -2336\n",
       "Essex County        -10447\n",
       "Gloucester County     4047\n",
       "Hudson County       -18466\n",
       "Hunterdon County       991\n",
       "Mercer County        -5753\n",
       "Middlesex County       104\n",
       "Monmouth County       1327\n",
       "Morris County         2767\n",
       "Ocean County         17313\n",
       "Passaic County       -9470\n",
       "Salem County           275\n",
       "Somerset County       2150\n",
       "Sussex County         2169\n",
       "Union County         -3802\n",
       "Warren County         1413\n",
       "dtype: int64"
      ]
     },
     "execution_count": 31,
     "metadata": {},
     "output_type": "execute_result"
    }
   ],
   "source": [
    "nj_county_data[2022] - nj_county_data[2020]"
   ]
  },
  {
   "cell_type": "markdown",
   "metadata": {},
   "source": [
    "We can assign this expression to a new column; all we need to do is use the subscript operator to access the new column and assign it some data that either has the same index as the dataframe, or the same length:"
   ]
  },
  {
   "cell_type": "code",
   "execution_count": 32,
   "metadata": {},
   "outputs": [
    {
     "data": {
      "text/html": [
       "<div>\n",
       "<style scoped>\n",
       "    .dataframe tbody tr th:only-of-type {\n",
       "        vertical-align: middle;\n",
       "    }\n",
       "\n",
       "    .dataframe tbody tr th {\n",
       "        vertical-align: top;\n",
       "    }\n",
       "\n",
       "    .dataframe thead th {\n",
       "        text-align: right;\n",
       "    }\n",
       "</style>\n",
       "<table border=\"1\" class=\"dataframe\">\n",
       "  <thead>\n",
       "    <tr style=\"text-align: right;\">\n",
       "      <th></th>\n",
       "      <th>2020</th>\n",
       "      <th>2021</th>\n",
       "      <th>2022</th>\n",
       "      <th>Change</th>\n",
       "      <th>Percent Change</th>\n",
       "    </tr>\n",
       "    <tr>\n",
       "      <th>County</th>\n",
       "      <th></th>\n",
       "      <th></th>\n",
       "      <th></th>\n",
       "      <th></th>\n",
       "      <th></th>\n",
       "    </tr>\n",
       "  </thead>\n",
       "  <tbody>\n",
       "    <tr>\n",
       "      <th>Atlantic County</th>\n",
       "      <td>274172</td>\n",
       "      <td>275130</td>\n",
       "      <td>275638</td>\n",
       "      <td>1466</td>\n",
       "      <td>0.534701</td>\n",
       "    </tr>\n",
       "    <tr>\n",
       "      <th>Bergen County</th>\n",
       "      <td>953617</td>\n",
       "      <td>954879</td>\n",
       "      <td>952997</td>\n",
       "      <td>-620</td>\n",
       "      <td>-0.065016</td>\n",
       "    </tr>\n",
       "    <tr>\n",
       "      <th>Burlington County</th>\n",
       "      <td>461648</td>\n",
       "      <td>464411</td>\n",
       "      <td>466103</td>\n",
       "      <td>4455</td>\n",
       "      <td>0.965021</td>\n",
       "    </tr>\n",
       "    <tr>\n",
       "      <th>Camden County</th>\n",
       "      <td>523074</td>\n",
       "      <td>524124</td>\n",
       "      <td>524907</td>\n",
       "      <td>1833</td>\n",
       "      <td>0.350428</td>\n",
       "    </tr>\n",
       "    <tr>\n",
       "      <th>Cape May County</th>\n",
       "      <td>95040</td>\n",
       "      <td>95768</td>\n",
       "      <td>95634</td>\n",
       "      <td>594</td>\n",
       "      <td>0.625000</td>\n",
       "    </tr>\n",
       "    <tr>\n",
       "      <th>Cumberland County</th>\n",
       "      <td>153692</td>\n",
       "      <td>152089</td>\n",
       "      <td>151356</td>\n",
       "      <td>-2336</td>\n",
       "      <td>-1.519923</td>\n",
       "    </tr>\n",
       "    <tr>\n",
       "      <th>Essex County</th>\n",
       "      <td>859924</td>\n",
       "      <td>854121</td>\n",
       "      <td>849477</td>\n",
       "      <td>-10447</td>\n",
       "      <td>-1.214875</td>\n",
       "    </tr>\n",
       "    <tr>\n",
       "      <th>Gloucester County</th>\n",
       "      <td>302554</td>\n",
       "      <td>304620</td>\n",
       "      <td>306601</td>\n",
       "      <td>4047</td>\n",
       "      <td>1.337612</td>\n",
       "    </tr>\n",
       "    <tr>\n",
       "      <th>Hudson County</th>\n",
       "      <td>721832</td>\n",
       "      <td>703447</td>\n",
       "      <td>703366</td>\n",
       "      <td>-18466</td>\n",
       "      <td>-2.558213</td>\n",
       "    </tr>\n",
       "    <tr>\n",
       "      <th>Hunterdon County</th>\n",
       "      <td>128786</td>\n",
       "      <td>129668</td>\n",
       "      <td>129777</td>\n",
       "      <td>991</td>\n",
       "      <td>0.769494</td>\n",
       "    </tr>\n",
       "    <tr>\n",
       "      <th>Mercer County</th>\n",
       "      <td>386441</td>\n",
       "      <td>382116</td>\n",
       "      <td>380688</td>\n",
       "      <td>-5753</td>\n",
       "      <td>-1.488714</td>\n",
       "    </tr>\n",
       "    <tr>\n",
       "      <th>Middlesex County</th>\n",
       "      <td>861314</td>\n",
       "      <td>862328</td>\n",
       "      <td>861418</td>\n",
       "      <td>104</td>\n",
       "      <td>0.012075</td>\n",
       "    </tr>\n",
       "    <tr>\n",
       "      <th>Monmouth County</th>\n",
       "      <td>642771</td>\n",
       "      <td>646392</td>\n",
       "      <td>644098</td>\n",
       "      <td>1327</td>\n",
       "      <td>0.206450</td>\n",
       "    </tr>\n",
       "    <tr>\n",
       "      <th>Morris County</th>\n",
       "      <td>508384</td>\n",
       "      <td>510444</td>\n",
       "      <td>511151</td>\n",
       "      <td>2767</td>\n",
       "      <td>0.544274</td>\n",
       "    </tr>\n",
       "    <tr>\n",
       "      <th>Ocean County</th>\n",
       "      <td>638422</td>\n",
       "      <td>649741</td>\n",
       "      <td>655735</td>\n",
       "      <td>17313</td>\n",
       "      <td>2.711843</td>\n",
       "    </tr>\n",
       "    <tr>\n",
       "      <th>Passaic County</th>\n",
       "      <td>523406</td>\n",
       "      <td>518345</td>\n",
       "      <td>513936</td>\n",
       "      <td>-9470</td>\n",
       "      <td>-1.809303</td>\n",
       "    </tr>\n",
       "    <tr>\n",
       "      <th>Salem County</th>\n",
       "      <td>64842</td>\n",
       "      <td>65058</td>\n",
       "      <td>65117</td>\n",
       "      <td>275</td>\n",
       "      <td>0.424108</td>\n",
       "    </tr>\n",
       "    <tr>\n",
       "      <th>Somerset County</th>\n",
       "      <td>344725</td>\n",
       "      <td>346331</td>\n",
       "      <td>346875</td>\n",
       "      <td>2150</td>\n",
       "      <td>0.623686</td>\n",
       "    </tr>\n",
       "    <tr>\n",
       "      <th>Sussex County</th>\n",
       "      <td>143915</td>\n",
       "      <td>145645</td>\n",
       "      <td>146084</td>\n",
       "      <td>2169</td>\n",
       "      <td>1.507140</td>\n",
       "    </tr>\n",
       "    <tr>\n",
       "      <th>Union County</th>\n",
       "      <td>573617</td>\n",
       "      <td>572810</td>\n",
       "      <td>569815</td>\n",
       "      <td>-3802</td>\n",
       "      <td>-0.662812</td>\n",
       "    </tr>\n",
       "    <tr>\n",
       "      <th>Warren County</th>\n",
       "      <td>109513</td>\n",
       "      <td>110494</td>\n",
       "      <td>110926</td>\n",
       "      <td>1413</td>\n",
       "      <td>1.290258</td>\n",
       "    </tr>\n",
       "  </tbody>\n",
       "</table>\n",
       "</div>"
      ],
      "text/plain": [
       "                     2020    2021    2022  Change  Percent Change\n",
       "County                                                           \n",
       "Atlantic County    274172  275130  275638    1466        0.534701\n",
       "Bergen County      953617  954879  952997    -620       -0.065016\n",
       "Burlington County  461648  464411  466103    4455        0.965021\n",
       "Camden County      523074  524124  524907    1833        0.350428\n",
       "Cape May County     95040   95768   95634     594        0.625000\n",
       "Cumberland County  153692  152089  151356   -2336       -1.519923\n",
       "Essex County       859924  854121  849477  -10447       -1.214875\n",
       "Gloucester County  302554  304620  306601    4047        1.337612\n",
       "Hudson County      721832  703447  703366  -18466       -2.558213\n",
       "Hunterdon County   128786  129668  129777     991        0.769494\n",
       "Mercer County      386441  382116  380688   -5753       -1.488714\n",
       "Middlesex County   861314  862328  861418     104        0.012075\n",
       "Monmouth County    642771  646392  644098    1327        0.206450\n",
       "Morris County      508384  510444  511151    2767        0.544274\n",
       "Ocean County       638422  649741  655735   17313        2.711843\n",
       "Passaic County     523406  518345  513936   -9470       -1.809303\n",
       "Salem County        64842   65058   65117     275        0.424108\n",
       "Somerset County    344725  346331  346875    2150        0.623686\n",
       "Sussex County      143915  145645  146084    2169        1.507140\n",
       "Union County       573617  572810  569815   -3802       -0.662812\n",
       "Warren County      109513  110494  110926    1413        1.290258"
      ]
     },
     "execution_count": 32,
     "metadata": {},
     "output_type": "execute_result"
    }
   ],
   "source": [
    "nj_county_data['Change'] = nj_county_data[2022] - nj_county_data[2020]\n",
    "nj_county_data['Percent Change'] = 100.0 * nj_county_data['Change'] / nj_county_data[2020]\n",
    "nj_county_data"
   ]
  },
  {
   "cell_type": "markdown",
   "metadata": {},
   "source": [
    "We can more clearly see how each county's population has changed - let's sort the dataframe according to the percent changes, in descending order:"
   ]
  },
  {
   "cell_type": "code",
   "execution_count": 33,
   "metadata": {},
   "outputs": [
    {
     "data": {
      "text/html": [
       "<div>\n",
       "<style scoped>\n",
       "    .dataframe tbody tr th:only-of-type {\n",
       "        vertical-align: middle;\n",
       "    }\n",
       "\n",
       "    .dataframe tbody tr th {\n",
       "        vertical-align: top;\n",
       "    }\n",
       "\n",
       "    .dataframe thead th {\n",
       "        text-align: right;\n",
       "    }\n",
       "</style>\n",
       "<table border=\"1\" class=\"dataframe\">\n",
       "  <thead>\n",
       "    <tr style=\"text-align: right;\">\n",
       "      <th></th>\n",
       "      <th>2020</th>\n",
       "      <th>2021</th>\n",
       "      <th>2022</th>\n",
       "      <th>Change</th>\n",
       "      <th>Percent Change</th>\n",
       "    </tr>\n",
       "    <tr>\n",
       "      <th>County</th>\n",
       "      <th></th>\n",
       "      <th></th>\n",
       "      <th></th>\n",
       "      <th></th>\n",
       "      <th></th>\n",
       "    </tr>\n",
       "  </thead>\n",
       "  <tbody>\n",
       "    <tr>\n",
       "      <th>Ocean County</th>\n",
       "      <td>638422</td>\n",
       "      <td>649741</td>\n",
       "      <td>655735</td>\n",
       "      <td>17313</td>\n",
       "      <td>2.711843</td>\n",
       "    </tr>\n",
       "    <tr>\n",
       "      <th>Sussex County</th>\n",
       "      <td>143915</td>\n",
       "      <td>145645</td>\n",
       "      <td>146084</td>\n",
       "      <td>2169</td>\n",
       "      <td>1.507140</td>\n",
       "    </tr>\n",
       "    <tr>\n",
       "      <th>Gloucester County</th>\n",
       "      <td>302554</td>\n",
       "      <td>304620</td>\n",
       "      <td>306601</td>\n",
       "      <td>4047</td>\n",
       "      <td>1.337612</td>\n",
       "    </tr>\n",
       "    <tr>\n",
       "      <th>Warren County</th>\n",
       "      <td>109513</td>\n",
       "      <td>110494</td>\n",
       "      <td>110926</td>\n",
       "      <td>1413</td>\n",
       "      <td>1.290258</td>\n",
       "    </tr>\n",
       "    <tr>\n",
       "      <th>Burlington County</th>\n",
       "      <td>461648</td>\n",
       "      <td>464411</td>\n",
       "      <td>466103</td>\n",
       "      <td>4455</td>\n",
       "      <td>0.965021</td>\n",
       "    </tr>\n",
       "    <tr>\n",
       "      <th>Hunterdon County</th>\n",
       "      <td>128786</td>\n",
       "      <td>129668</td>\n",
       "      <td>129777</td>\n",
       "      <td>991</td>\n",
       "      <td>0.769494</td>\n",
       "    </tr>\n",
       "    <tr>\n",
       "      <th>Cape May County</th>\n",
       "      <td>95040</td>\n",
       "      <td>95768</td>\n",
       "      <td>95634</td>\n",
       "      <td>594</td>\n",
       "      <td>0.625000</td>\n",
       "    </tr>\n",
       "    <tr>\n",
       "      <th>Somerset County</th>\n",
       "      <td>344725</td>\n",
       "      <td>346331</td>\n",
       "      <td>346875</td>\n",
       "      <td>2150</td>\n",
       "      <td>0.623686</td>\n",
       "    </tr>\n",
       "    <tr>\n",
       "      <th>Morris County</th>\n",
       "      <td>508384</td>\n",
       "      <td>510444</td>\n",
       "      <td>511151</td>\n",
       "      <td>2767</td>\n",
       "      <td>0.544274</td>\n",
       "    </tr>\n",
       "    <tr>\n",
       "      <th>Atlantic County</th>\n",
       "      <td>274172</td>\n",
       "      <td>275130</td>\n",
       "      <td>275638</td>\n",
       "      <td>1466</td>\n",
       "      <td>0.534701</td>\n",
       "    </tr>\n",
       "    <tr>\n",
       "      <th>Salem County</th>\n",
       "      <td>64842</td>\n",
       "      <td>65058</td>\n",
       "      <td>65117</td>\n",
       "      <td>275</td>\n",
       "      <td>0.424108</td>\n",
       "    </tr>\n",
       "    <tr>\n",
       "      <th>Camden County</th>\n",
       "      <td>523074</td>\n",
       "      <td>524124</td>\n",
       "      <td>524907</td>\n",
       "      <td>1833</td>\n",
       "      <td>0.350428</td>\n",
       "    </tr>\n",
       "    <tr>\n",
       "      <th>Monmouth County</th>\n",
       "      <td>642771</td>\n",
       "      <td>646392</td>\n",
       "      <td>644098</td>\n",
       "      <td>1327</td>\n",
       "      <td>0.206450</td>\n",
       "    </tr>\n",
       "    <tr>\n",
       "      <th>Middlesex County</th>\n",
       "      <td>861314</td>\n",
       "      <td>862328</td>\n",
       "      <td>861418</td>\n",
       "      <td>104</td>\n",
       "      <td>0.012075</td>\n",
       "    </tr>\n",
       "    <tr>\n",
       "      <th>Bergen County</th>\n",
       "      <td>953617</td>\n",
       "      <td>954879</td>\n",
       "      <td>952997</td>\n",
       "      <td>-620</td>\n",
       "      <td>-0.065016</td>\n",
       "    </tr>\n",
       "    <tr>\n",
       "      <th>Union County</th>\n",
       "      <td>573617</td>\n",
       "      <td>572810</td>\n",
       "      <td>569815</td>\n",
       "      <td>-3802</td>\n",
       "      <td>-0.662812</td>\n",
       "    </tr>\n",
       "    <tr>\n",
       "      <th>Essex County</th>\n",
       "      <td>859924</td>\n",
       "      <td>854121</td>\n",
       "      <td>849477</td>\n",
       "      <td>-10447</td>\n",
       "      <td>-1.214875</td>\n",
       "    </tr>\n",
       "    <tr>\n",
       "      <th>Mercer County</th>\n",
       "      <td>386441</td>\n",
       "      <td>382116</td>\n",
       "      <td>380688</td>\n",
       "      <td>-5753</td>\n",
       "      <td>-1.488714</td>\n",
       "    </tr>\n",
       "    <tr>\n",
       "      <th>Cumberland County</th>\n",
       "      <td>153692</td>\n",
       "      <td>152089</td>\n",
       "      <td>151356</td>\n",
       "      <td>-2336</td>\n",
       "      <td>-1.519923</td>\n",
       "    </tr>\n",
       "    <tr>\n",
       "      <th>Passaic County</th>\n",
       "      <td>523406</td>\n",
       "      <td>518345</td>\n",
       "      <td>513936</td>\n",
       "      <td>-9470</td>\n",
       "      <td>-1.809303</td>\n",
       "    </tr>\n",
       "    <tr>\n",
       "      <th>Hudson County</th>\n",
       "      <td>721832</td>\n",
       "      <td>703447</td>\n",
       "      <td>703366</td>\n",
       "      <td>-18466</td>\n",
       "      <td>-2.558213</td>\n",
       "    </tr>\n",
       "  </tbody>\n",
       "</table>\n",
       "</div>"
      ],
      "text/plain": [
       "                     2020    2021    2022  Change  Percent Change\n",
       "County                                                           \n",
       "Ocean County       638422  649741  655735   17313        2.711843\n",
       "Sussex County      143915  145645  146084    2169        1.507140\n",
       "Gloucester County  302554  304620  306601    4047        1.337612\n",
       "Warren County      109513  110494  110926    1413        1.290258\n",
       "Burlington County  461648  464411  466103    4455        0.965021\n",
       "Hunterdon County   128786  129668  129777     991        0.769494\n",
       "Cape May County     95040   95768   95634     594        0.625000\n",
       "Somerset County    344725  346331  346875    2150        0.623686\n",
       "Morris County      508384  510444  511151    2767        0.544274\n",
       "Atlantic County    274172  275130  275638    1466        0.534701\n",
       "Salem County        64842   65058   65117     275        0.424108\n",
       "Camden County      523074  524124  524907    1833        0.350428\n",
       "Monmouth County    642771  646392  644098    1327        0.206450\n",
       "Middlesex County   861314  862328  861418     104        0.012075\n",
       "Bergen County      953617  954879  952997    -620       -0.065016\n",
       "Union County       573617  572810  569815   -3802       -0.662812\n",
       "Essex County       859924  854121  849477  -10447       -1.214875\n",
       "Mercer County      386441  382116  380688   -5753       -1.488714\n",
       "Cumberland County  153692  152089  151356   -2336       -1.519923\n",
       "Passaic County     523406  518345  513936   -9470       -1.809303\n",
       "Hudson County      721832  703447  703366  -18466       -2.558213"
      ]
     },
     "execution_count": 33,
     "metadata": {},
     "output_type": "execute_result"
    }
   ],
   "source": [
    "nj_county_data.sort_values(by='Percent Change', ascending=False, inplace=True)\n",
    "nj_county_data"
   ]
  },
  {
   "cell_type": "markdown",
   "metadata": {},
   "source": [
    "While looking at raw changes are useful, it can be just as useful looking at percentage changes. Percentages can normalize a dataset, and can help highlight substantial fluctuations within the data (e.g. a change of 20k people in Bergen County is significantly less impactful than a change of 20k people in Salem County). "
   ]
  },
  {
   "cell_type": "markdown",
   "metadata": {},
   "source": [
    "## Exercise\n",
    "\n",
    "We want to take our NJ population data and filter it on multiple criteria. We can apply logical combinations of masks using the `&` (element-wise AND) and `|` (element-wise OR) operators. These are considered \"element-wise\" operations in the sense that we perform operations on each element of a mask.\n",
    "\n",
    "We want to get all counties having `Percent Change` with an absolute value grater than 1 and a 2022 estimated population greater than 500000.0. Create a mask for each of those two criteria, and then create a third mask that is created by joining the first two using a *bitwise-and* operation."
   ]
  },
  {
   "cell_type": "code",
   "execution_count": 44,
   "metadata": {},
   "outputs": [
    {
     "data": {
      "text/html": [
       "<div>\n",
       "<style scoped>\n",
       "    .dataframe tbody tr th:only-of-type {\n",
       "        vertical-align: middle;\n",
       "    }\n",
       "\n",
       "    .dataframe tbody tr th {\n",
       "        vertical-align: top;\n",
       "    }\n",
       "\n",
       "    .dataframe thead th {\n",
       "        text-align: right;\n",
       "    }\n",
       "</style>\n",
       "<table border=\"1\" class=\"dataframe\">\n",
       "  <thead>\n",
       "    <tr style=\"text-align: right;\">\n",
       "      <th></th>\n",
       "      <th>2020</th>\n",
       "      <th>2021</th>\n",
       "      <th>2022</th>\n",
       "      <th>Change</th>\n",
       "      <th>Percent Change</th>\n",
       "    </tr>\n",
       "    <tr>\n",
       "      <th>County</th>\n",
       "      <th></th>\n",
       "      <th></th>\n",
       "      <th></th>\n",
       "      <th></th>\n",
       "      <th></th>\n",
       "    </tr>\n",
       "  </thead>\n",
       "  <tbody>\n",
       "    <tr>\n",
       "      <th>Ocean County</th>\n",
       "      <td>638422</td>\n",
       "      <td>649741</td>\n",
       "      <td>655735</td>\n",
       "      <td>17313</td>\n",
       "      <td>2.711843</td>\n",
       "    </tr>\n",
       "    <tr>\n",
       "      <th>Essex County</th>\n",
       "      <td>859924</td>\n",
       "      <td>854121</td>\n",
       "      <td>849477</td>\n",
       "      <td>-10447</td>\n",
       "      <td>-1.214875</td>\n",
       "    </tr>\n",
       "    <tr>\n",
       "      <th>Passaic County</th>\n",
       "      <td>523406</td>\n",
       "      <td>518345</td>\n",
       "      <td>513936</td>\n",
       "      <td>-9470</td>\n",
       "      <td>-1.809303</td>\n",
       "    </tr>\n",
       "    <tr>\n",
       "      <th>Hudson County</th>\n",
       "      <td>721832</td>\n",
       "      <td>703447</td>\n",
       "      <td>703366</td>\n",
       "      <td>-18466</td>\n",
       "      <td>-2.558213</td>\n",
       "    </tr>\n",
       "  </tbody>\n",
       "</table>\n",
       "</div>"
      ],
      "text/plain": [
       "                  2020    2021    2022  Change  Percent Change\n",
       "County                                                        \n",
       "Ocean County    638422  649741  655735   17313        2.711843\n",
       "Essex County    859924  854121  849477  -10447       -1.214875\n",
       "Passaic County  523406  518345  513936   -9470       -1.809303\n",
       "Hudson County   721832  703447  703366  -18466       -2.558213"
      ]
     },
     "execution_count": 44,
     "metadata": {},
     "output_type": "execute_result"
    }
   ],
   "source": [
    "abs_greater_than_1_mask = np.abs(nj_county_data['Percent Change']) > 1\n",
    "population_2022_greater_than_500000 = nj_county_data[2022] > 500000\n",
    "\n",
    "intersection_mask = population_2022_greater_than_500000 & abs_greater_than_1_mask\n",
    "\n",
    "intersection_mask\n",
    "\n",
    "nj_county_data[intersection_mask]"
   ]
  },
  {
   "cell_type": "code",
   "execution_count": null,
   "metadata": {},
   "outputs": [],
   "source": []
  }
 ],
 "metadata": {
  "kernelspec": {
   "display_name": "Python 3",
   "language": "python",
   "name": "python3"
  },
  "language_info": {
   "codemirror_mode": {
    "name": "ipython",
    "version": 3
   },
   "file_extension": ".py",
   "mimetype": "text/x-python",
   "name": "python",
   "nbconvert_exporter": "python",
   "pygments_lexer": "ipython3",
   "version": "3.12.1"
  },
  "orig_nbformat": 4
 },
 "nbformat": 4,
 "nbformat_minor": 2
}
